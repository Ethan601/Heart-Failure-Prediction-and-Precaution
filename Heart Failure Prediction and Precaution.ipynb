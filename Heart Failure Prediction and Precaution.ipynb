{
 "cells": [
  {
   "cell_type": "markdown",
   "id": "cf6a0f2c",
   "metadata": {},
   "source": [
    "# Heart Failure Prediction and Precaution"
   ]
  },
  {
   "cell_type": "markdown",
   "id": "61043dee",
   "metadata": {},
   "source": [
    "Cardiovascular diseases (CVDs) are the #1 cause of death globally, accounting for 31% of all deaths worldwide. Four out of 5CVD deaths are due to heart attacks and strokes, and one-third of these deaths occur prematurely in people under 70 years of age. Heart failure is a common event caused by CVDs and this dataset contains 12 variables that can be used to predict a possible heart disease (supervised) or generate precautionary advices for high-risk cohort by exploring latent correlations among features/label (unsupervised).\n",
    "\n",
    "People with cardiovascular disease or who are at high cardiovascular risk (due to the presence of one or more risk factors such as hypertension, diabetes, hyperlipidaemia or already established disease) need early detection and recommendation wherein a machine learning model can be of great help."
   ]
  },
  {
   "cell_type": "markdown",
   "id": "fdc55cc8",
   "metadata": {},
   "source": [
    "### Variables Information"
   ]
  },
  {
   "cell_type": "markdown",
   "id": "5dd20fb1",
   "metadata": {},
   "source": [
    "| Feature | Description |\n",
    "| :- | :- |\n",
    "| Age | age of the patient [years]\n",
    "| Sex | sex of the patient [M: Male, F: Female]\n",
    "| ChestPainType | chest pain type [TA: Typical Angina, ATA: Atypical Angina, NAP: Non-Anginal Pain, ASY: Asymptomatic]\n",
    "| RestingBP | resting blood pressure [mm Hg]\n",
    "| Cholesterol | serum cholesterol [mm/dl]\n",
    "| FastingBS | fasting blood sugar [1: if FastingBS > 120 mg/dl, 0: otherwise]\n",
    "| RestingECG | resting electrocardiogram results [Normal: Normal, ST: having ST-T wave abnormality (T wave inversions and/or ST elevation or depression of > 0.05 mV), LVH: showing probable or definite left ventricular hypertrophy by Estes' criteria]\n",
    "| MaxHR | maximum heart rate achieved [Numeric value between 60 and 202]\n",
    "| ExerciseAngina | exercise-induced angina [Y: Yes, N: No]\n",
    "| Oldpeak | oldpeak = ST [Numeric value measured in depression]\n",
    "| ST_Slope | the slope of the peak exercise ST segment [Up: upsloping, Flat: flat, Down: downsloping]\n",
    "| HeartDisease | output class [1: heart disease, 0: Normal]"
   ]
  },
  {
   "cell_type": "markdown",
   "id": "bdf609a6",
   "metadata": {},
   "source": [
    "## Import libraries & dataset"
   ]
  },
  {
   "cell_type": "code",
   "execution_count": 2,
   "id": "9195d551",
   "metadata": {},
   "outputs": [],
   "source": [
    "import pandas as pd\n",
    "import numpy as np\n",
    "import seaborn as sns\n",
    "import matplotlib.pyplot as plt\n",
    "\n",
    "np.random.seed(123)   # For reproducibility"
   ]
  },
  {
   "cell_type": "code",
   "execution_count": 3,
   "id": "21b3dd16",
   "metadata": {
    "scrolled": true
   },
   "outputs": [
    {
     "data": {
      "text/html": [
       "<div>\n",
       "<style scoped>\n",
       "    .dataframe tbody tr th:only-of-type {\n",
       "        vertical-align: middle;\n",
       "    }\n",
       "\n",
       "    .dataframe tbody tr th {\n",
       "        vertical-align: top;\n",
       "    }\n",
       "\n",
       "    .dataframe thead th {\n",
       "        text-align: right;\n",
       "    }\n",
       "</style>\n",
       "<table border=\"1\" class=\"dataframe\">\n",
       "  <thead>\n",
       "    <tr style=\"text-align: right;\">\n",
       "      <th></th>\n",
       "      <th>Age</th>\n",
       "      <th>Sex</th>\n",
       "      <th>ChestPainType</th>\n",
       "      <th>RestingBP</th>\n",
       "      <th>Cholesterol</th>\n",
       "      <th>FastingBS</th>\n",
       "      <th>RestingECG</th>\n",
       "      <th>MaxHR</th>\n",
       "      <th>ExerciseAngina</th>\n",
       "      <th>Oldpeak</th>\n",
       "      <th>ST_Slope</th>\n",
       "      <th>HeartDisease</th>\n",
       "    </tr>\n",
       "  </thead>\n",
       "  <tbody>\n",
       "    <tr>\n",
       "      <th>0</th>\n",
       "      <td>40</td>\n",
       "      <td>M</td>\n",
       "      <td>ATA</td>\n",
       "      <td>140</td>\n",
       "      <td>289</td>\n",
       "      <td>0</td>\n",
       "      <td>Normal</td>\n",
       "      <td>172</td>\n",
       "      <td>N</td>\n",
       "      <td>0.0</td>\n",
       "      <td>Up</td>\n",
       "      <td>0</td>\n",
       "    </tr>\n",
       "    <tr>\n",
       "      <th>1</th>\n",
       "      <td>49</td>\n",
       "      <td>F</td>\n",
       "      <td>NAP</td>\n",
       "      <td>160</td>\n",
       "      <td>180</td>\n",
       "      <td>0</td>\n",
       "      <td>Normal</td>\n",
       "      <td>156</td>\n",
       "      <td>N</td>\n",
       "      <td>1.0</td>\n",
       "      <td>Flat</td>\n",
       "      <td>1</td>\n",
       "    </tr>\n",
       "    <tr>\n",
       "      <th>2</th>\n",
       "      <td>37</td>\n",
       "      <td>M</td>\n",
       "      <td>ATA</td>\n",
       "      <td>130</td>\n",
       "      <td>283</td>\n",
       "      <td>0</td>\n",
       "      <td>ST</td>\n",
       "      <td>98</td>\n",
       "      <td>N</td>\n",
       "      <td>0.0</td>\n",
       "      <td>Up</td>\n",
       "      <td>0</td>\n",
       "    </tr>\n",
       "    <tr>\n",
       "      <th>3</th>\n",
       "      <td>48</td>\n",
       "      <td>F</td>\n",
       "      <td>ASY</td>\n",
       "      <td>138</td>\n",
       "      <td>214</td>\n",
       "      <td>0</td>\n",
       "      <td>Normal</td>\n",
       "      <td>108</td>\n",
       "      <td>Y</td>\n",
       "      <td>1.5</td>\n",
       "      <td>Flat</td>\n",
       "      <td>1</td>\n",
       "    </tr>\n",
       "    <tr>\n",
       "      <th>4</th>\n",
       "      <td>54</td>\n",
       "      <td>M</td>\n",
       "      <td>NAP</td>\n",
       "      <td>150</td>\n",
       "      <td>195</td>\n",
       "      <td>0</td>\n",
       "      <td>Normal</td>\n",
       "      <td>122</td>\n",
       "      <td>N</td>\n",
       "      <td>0.0</td>\n",
       "      <td>Up</td>\n",
       "      <td>0</td>\n",
       "    </tr>\n",
       "    <tr>\n",
       "      <th>...</th>\n",
       "      <td>...</td>\n",
       "      <td>...</td>\n",
       "      <td>...</td>\n",
       "      <td>...</td>\n",
       "      <td>...</td>\n",
       "      <td>...</td>\n",
       "      <td>...</td>\n",
       "      <td>...</td>\n",
       "      <td>...</td>\n",
       "      <td>...</td>\n",
       "      <td>...</td>\n",
       "      <td>...</td>\n",
       "    </tr>\n",
       "    <tr>\n",
       "      <th>913</th>\n",
       "      <td>45</td>\n",
       "      <td>M</td>\n",
       "      <td>TA</td>\n",
       "      <td>110</td>\n",
       "      <td>264</td>\n",
       "      <td>0</td>\n",
       "      <td>Normal</td>\n",
       "      <td>132</td>\n",
       "      <td>N</td>\n",
       "      <td>1.2</td>\n",
       "      <td>Flat</td>\n",
       "      <td>1</td>\n",
       "    </tr>\n",
       "    <tr>\n",
       "      <th>914</th>\n",
       "      <td>68</td>\n",
       "      <td>M</td>\n",
       "      <td>ASY</td>\n",
       "      <td>144</td>\n",
       "      <td>193</td>\n",
       "      <td>1</td>\n",
       "      <td>Normal</td>\n",
       "      <td>141</td>\n",
       "      <td>N</td>\n",
       "      <td>3.4</td>\n",
       "      <td>Flat</td>\n",
       "      <td>1</td>\n",
       "    </tr>\n",
       "    <tr>\n",
       "      <th>915</th>\n",
       "      <td>57</td>\n",
       "      <td>M</td>\n",
       "      <td>ASY</td>\n",
       "      <td>130</td>\n",
       "      <td>131</td>\n",
       "      <td>0</td>\n",
       "      <td>Normal</td>\n",
       "      <td>115</td>\n",
       "      <td>Y</td>\n",
       "      <td>1.2</td>\n",
       "      <td>Flat</td>\n",
       "      <td>1</td>\n",
       "    </tr>\n",
       "    <tr>\n",
       "      <th>916</th>\n",
       "      <td>57</td>\n",
       "      <td>F</td>\n",
       "      <td>ATA</td>\n",
       "      <td>130</td>\n",
       "      <td>236</td>\n",
       "      <td>0</td>\n",
       "      <td>LVH</td>\n",
       "      <td>174</td>\n",
       "      <td>N</td>\n",
       "      <td>0.0</td>\n",
       "      <td>Flat</td>\n",
       "      <td>1</td>\n",
       "    </tr>\n",
       "    <tr>\n",
       "      <th>917</th>\n",
       "      <td>38</td>\n",
       "      <td>M</td>\n",
       "      <td>NAP</td>\n",
       "      <td>138</td>\n",
       "      <td>175</td>\n",
       "      <td>0</td>\n",
       "      <td>Normal</td>\n",
       "      <td>173</td>\n",
       "      <td>N</td>\n",
       "      <td>0.0</td>\n",
       "      <td>Up</td>\n",
       "      <td>0</td>\n",
       "    </tr>\n",
       "  </tbody>\n",
       "</table>\n",
       "<p>918 rows × 12 columns</p>\n",
       "</div>"
      ],
      "text/plain": [
       "     Age Sex ChestPainType  RestingBP  Cholesterol  FastingBS RestingECG  \\\n",
       "0     40   M           ATA        140          289          0     Normal   \n",
       "1     49   F           NAP        160          180          0     Normal   \n",
       "2     37   M           ATA        130          283          0         ST   \n",
       "3     48   F           ASY        138          214          0     Normal   \n",
       "4     54   M           NAP        150          195          0     Normal   \n",
       "..   ...  ..           ...        ...          ...        ...        ...   \n",
       "913   45   M            TA        110          264          0     Normal   \n",
       "914   68   M           ASY        144          193          1     Normal   \n",
       "915   57   M           ASY        130          131          0     Normal   \n",
       "916   57   F           ATA        130          236          0        LVH   \n",
       "917   38   M           NAP        138          175          0     Normal   \n",
       "\n",
       "     MaxHR ExerciseAngina  Oldpeak ST_Slope  HeartDisease  \n",
       "0      172              N      0.0       Up             0  \n",
       "1      156              N      1.0     Flat             1  \n",
       "2       98              N      0.0       Up             0  \n",
       "3      108              Y      1.5     Flat             1  \n",
       "4      122              N      0.0       Up             0  \n",
       "..     ...            ...      ...      ...           ...  \n",
       "913    132              N      1.2     Flat             1  \n",
       "914    141              N      3.4     Flat             1  \n",
       "915    115              Y      1.2     Flat             1  \n",
       "916    174              N      0.0     Flat             1  \n",
       "917    173              N      0.0       Up             0  \n",
       "\n",
       "[918 rows x 12 columns]"
      ]
     },
     "metadata": {},
     "output_type": "display_data"
    }
   ],
   "source": [
    "df = pd.read_csv('./heart.csv')\n",
    "display(df)"
   ]
  },
  {
   "cell_type": "code",
   "execution_count": 4,
   "id": "3dddef29",
   "metadata": {},
   "outputs": [
    {
     "data": {
      "text/plain": [
       "410"
      ]
     },
     "execution_count": 4,
     "metadata": {},
     "output_type": "execute_result"
    }
   ],
   "source": [
    "sum(df['HeartDisease']==0)"
   ]
  },
  {
   "cell_type": "markdown",
   "id": "d0e8768d",
   "metadata": {},
   "source": [
    "### Check duplicate and null values"
   ]
  },
  {
   "cell_type": "code",
   "execution_count": 5,
   "id": "9994acdb",
   "metadata": {},
   "outputs": [
    {
     "name": "stdout",
     "output_type": "stream",
     "text": [
      "Number of Duplicates: 0\n",
      "Number of Missing Values: 0\n"
     ]
    }
   ],
   "source": [
    "print('Number of Duplicates:', sum(df.duplicated()==True))\n",
    "print('Number of Missing Values:', df.isnull().sum().sum())"
   ]
  },
  {
   "cell_type": "markdown",
   "id": "41b8604e",
   "metadata": {},
   "source": [
    "## Exploratory Data Analysis"
   ]
  },
  {
   "cell_type": "code",
   "execution_count": 6,
   "id": "e80d8372",
   "metadata": {},
   "outputs": [
    {
     "data": {
      "text/plain": [
       "Age                50\n",
       "Sex                 2\n",
       "ChestPainType       4\n",
       "RestingBP          67\n",
       "Cholesterol       222\n",
       "FastingBS           2\n",
       "RestingECG          3\n",
       "MaxHR             119\n",
       "ExerciseAngina      2\n",
       "Oldpeak            53\n",
       "ST_Slope            3\n",
       "HeartDisease        2\n",
       "dtype: int64"
      ]
     },
     "execution_count": 6,
     "metadata": {},
     "output_type": "execute_result"
    }
   ],
   "source": [
    "df.nunique()"
   ]
  },
  {
   "cell_type": "markdown",
   "id": "80643078",
   "metadata": {},
   "source": [
    "Note: FastingBS and HeartDisease are binary features [0, 1], so they can be transformed into categorical variables for EDA only."
   ]
  },
  {
   "cell_type": "code",
   "execution_count": 7,
   "id": "c2efb979",
   "metadata": {},
   "outputs": [],
   "source": [
    "df['FastingBS'] = df['FastingBS'].astype(str)\n",
    "# df['HeartDisease'] = df['HeartDisease'].astype(str)"
   ]
  },
  {
   "cell_type": "markdown",
   "id": "6c834dc3",
   "metadata": {},
   "source": [
    "Rename some features and values to be more readable for EDA."
   ]
  },
  {
   "cell_type": "code",
   "execution_count": 8,
   "id": "a080d8f6",
   "metadata": {},
   "outputs": [],
   "source": [
    "df.loc[df['HeartDisease'] == 1, 'HeartDisease'] = 'ill' \n",
    "df.loc[df['HeartDisease'] == 0, 'HeartDisease'] = 'healthy' \n",
    "df.loc[df['Sex'] == 'M', 'Sex'] = 'Male'\n",
    "df.loc[df['Sex'] == 'F', 'Sex'] = 'Female' \n",
    "df.loc[df['ExerciseAngina'] == 'Y', 'ExerciseAngina'] = 'Yes'\n",
    "df.loc[df['ExerciseAngina'] == 'N', 'ExerciseAngina'] = 'No' "
   ]
  },
  {
   "cell_type": "code",
   "execution_count": 9,
   "id": "b6fd9303",
   "metadata": {},
   "outputs": [
    {
     "data": {
      "text/html": [
       "<div>\n",
       "<style scoped>\n",
       "    .dataframe tbody tr th:only-of-type {\n",
       "        vertical-align: middle;\n",
       "    }\n",
       "\n",
       "    .dataframe tbody tr th {\n",
       "        vertical-align: top;\n",
       "    }\n",
       "\n",
       "    .dataframe thead th {\n",
       "        text-align: right;\n",
       "    }\n",
       "</style>\n",
       "<table border=\"1\" class=\"dataframe\">\n",
       "  <thead>\n",
       "    <tr style=\"text-align: right;\">\n",
       "      <th></th>\n",
       "      <th>Sex</th>\n",
       "      <th>ChestPainType</th>\n",
       "      <th>FastingBS</th>\n",
       "      <th>RestingECG</th>\n",
       "      <th>ExerciseAngina</th>\n",
       "      <th>ST_Slope</th>\n",
       "      <th>HeartDisease</th>\n",
       "    </tr>\n",
       "  </thead>\n",
       "  <tbody>\n",
       "    <tr>\n",
       "      <th>0</th>\n",
       "      <td>Male</td>\n",
       "      <td>ATA</td>\n",
       "      <td>0</td>\n",
       "      <td>Normal</td>\n",
       "      <td>No</td>\n",
       "      <td>Up</td>\n",
       "      <td>healthy</td>\n",
       "    </tr>\n",
       "    <tr>\n",
       "      <th>1</th>\n",
       "      <td>Female</td>\n",
       "      <td>NAP</td>\n",
       "      <td>0</td>\n",
       "      <td>Normal</td>\n",
       "      <td>No</td>\n",
       "      <td>Flat</td>\n",
       "      <td>ill</td>\n",
       "    </tr>\n",
       "    <tr>\n",
       "      <th>2</th>\n",
       "      <td>Male</td>\n",
       "      <td>ATA</td>\n",
       "      <td>0</td>\n",
       "      <td>ST</td>\n",
       "      <td>No</td>\n",
       "      <td>Up</td>\n",
       "      <td>healthy</td>\n",
       "    </tr>\n",
       "    <tr>\n",
       "      <th>3</th>\n",
       "      <td>Female</td>\n",
       "      <td>ASY</td>\n",
       "      <td>0</td>\n",
       "      <td>Normal</td>\n",
       "      <td>Yes</td>\n",
       "      <td>Flat</td>\n",
       "      <td>ill</td>\n",
       "    </tr>\n",
       "    <tr>\n",
       "      <th>4</th>\n",
       "      <td>Male</td>\n",
       "      <td>NAP</td>\n",
       "      <td>0</td>\n",
       "      <td>Normal</td>\n",
       "      <td>No</td>\n",
       "      <td>Up</td>\n",
       "      <td>healthy</td>\n",
       "    </tr>\n",
       "    <tr>\n",
       "      <th>...</th>\n",
       "      <td>...</td>\n",
       "      <td>...</td>\n",
       "      <td>...</td>\n",
       "      <td>...</td>\n",
       "      <td>...</td>\n",
       "      <td>...</td>\n",
       "      <td>...</td>\n",
       "    </tr>\n",
       "    <tr>\n",
       "      <th>913</th>\n",
       "      <td>Male</td>\n",
       "      <td>TA</td>\n",
       "      <td>0</td>\n",
       "      <td>Normal</td>\n",
       "      <td>No</td>\n",
       "      <td>Flat</td>\n",
       "      <td>ill</td>\n",
       "    </tr>\n",
       "    <tr>\n",
       "      <th>914</th>\n",
       "      <td>Male</td>\n",
       "      <td>ASY</td>\n",
       "      <td>1</td>\n",
       "      <td>Normal</td>\n",
       "      <td>No</td>\n",
       "      <td>Flat</td>\n",
       "      <td>ill</td>\n",
       "    </tr>\n",
       "    <tr>\n",
       "      <th>915</th>\n",
       "      <td>Male</td>\n",
       "      <td>ASY</td>\n",
       "      <td>0</td>\n",
       "      <td>Normal</td>\n",
       "      <td>Yes</td>\n",
       "      <td>Flat</td>\n",
       "      <td>ill</td>\n",
       "    </tr>\n",
       "    <tr>\n",
       "      <th>916</th>\n",
       "      <td>Female</td>\n",
       "      <td>ATA</td>\n",
       "      <td>0</td>\n",
       "      <td>LVH</td>\n",
       "      <td>No</td>\n",
       "      <td>Flat</td>\n",
       "      <td>ill</td>\n",
       "    </tr>\n",
       "    <tr>\n",
       "      <th>917</th>\n",
       "      <td>Male</td>\n",
       "      <td>NAP</td>\n",
       "      <td>0</td>\n",
       "      <td>Normal</td>\n",
       "      <td>No</td>\n",
       "      <td>Up</td>\n",
       "      <td>healthy</td>\n",
       "    </tr>\n",
       "  </tbody>\n",
       "</table>\n",
       "<p>918 rows × 7 columns</p>\n",
       "</div>"
      ],
      "text/plain": [
       "        Sex ChestPainType FastingBS RestingECG ExerciseAngina ST_Slope  \\\n",
       "0      Male           ATA         0     Normal             No       Up   \n",
       "1    Female           NAP         0     Normal             No     Flat   \n",
       "2      Male           ATA         0         ST             No       Up   \n",
       "3    Female           ASY         0     Normal            Yes     Flat   \n",
       "4      Male           NAP         0     Normal             No       Up   \n",
       "..      ...           ...       ...        ...            ...      ...   \n",
       "913    Male            TA         0     Normal             No     Flat   \n",
       "914    Male           ASY         1     Normal             No     Flat   \n",
       "915    Male           ASY         0     Normal            Yes     Flat   \n",
       "916  Female           ATA         0        LVH             No     Flat   \n",
       "917    Male           NAP         0     Normal             No       Up   \n",
       "\n",
       "    HeartDisease  \n",
       "0        healthy  \n",
       "1            ill  \n",
       "2        healthy  \n",
       "3            ill  \n",
       "4        healthy  \n",
       "..           ...  \n",
       "913          ill  \n",
       "914          ill  \n",
       "915          ill  \n",
       "916          ill  \n",
       "917      healthy  \n",
       "\n",
       "[918 rows x 7 columns]"
      ]
     },
     "execution_count": 9,
     "metadata": {},
     "output_type": "execute_result"
    }
   ],
   "source": [
    "df.select_dtypes(include=object).astype(\"category\")"
   ]
  },
  {
   "cell_type": "code",
   "execution_count": 10,
   "id": "cc80292c",
   "metadata": {},
   "outputs": [
    {
     "data": {
      "text/html": [
       "<div>\n",
       "<style scoped>\n",
       "    .dataframe tbody tr th:only-of-type {\n",
       "        vertical-align: middle;\n",
       "    }\n",
       "\n",
       "    .dataframe tbody tr th {\n",
       "        vertical-align: top;\n",
       "    }\n",
       "\n",
       "    .dataframe thead th {\n",
       "        text-align: right;\n",
       "    }\n",
       "</style>\n",
       "<table border=\"1\" class=\"dataframe\">\n",
       "  <thead>\n",
       "    <tr style=\"text-align: right;\">\n",
       "      <th></th>\n",
       "      <th>Sex</th>\n",
       "      <th>ChestPainType</th>\n",
       "      <th>FastingBS</th>\n",
       "      <th>RestingECG</th>\n",
       "      <th>ExerciseAngina</th>\n",
       "      <th>ST_Slope</th>\n",
       "      <th>HeartDisease</th>\n",
       "    </tr>\n",
       "  </thead>\n",
       "  <tbody>\n",
       "    <tr>\n",
       "      <th>0</th>\n",
       "      <td>Male</td>\n",
       "      <td>ATA</td>\n",
       "      <td>0</td>\n",
       "      <td>Normal</td>\n",
       "      <td>No</td>\n",
       "      <td>Up</td>\n",
       "      <td>healthy</td>\n",
       "    </tr>\n",
       "    <tr>\n",
       "      <th>1</th>\n",
       "      <td>Female</td>\n",
       "      <td>NAP</td>\n",
       "      <td>0</td>\n",
       "      <td>Normal</td>\n",
       "      <td>No</td>\n",
       "      <td>Flat</td>\n",
       "      <td>ill</td>\n",
       "    </tr>\n",
       "    <tr>\n",
       "      <th>2</th>\n",
       "      <td>Male</td>\n",
       "      <td>ATA</td>\n",
       "      <td>0</td>\n",
       "      <td>ST</td>\n",
       "      <td>No</td>\n",
       "      <td>Up</td>\n",
       "      <td>healthy</td>\n",
       "    </tr>\n",
       "    <tr>\n",
       "      <th>3</th>\n",
       "      <td>Female</td>\n",
       "      <td>ASY</td>\n",
       "      <td>0</td>\n",
       "      <td>Normal</td>\n",
       "      <td>Yes</td>\n",
       "      <td>Flat</td>\n",
       "      <td>ill</td>\n",
       "    </tr>\n",
       "    <tr>\n",
       "      <th>4</th>\n",
       "      <td>Male</td>\n",
       "      <td>NAP</td>\n",
       "      <td>0</td>\n",
       "      <td>Normal</td>\n",
       "      <td>No</td>\n",
       "      <td>Up</td>\n",
       "      <td>healthy</td>\n",
       "    </tr>\n",
       "    <tr>\n",
       "      <th>...</th>\n",
       "      <td>...</td>\n",
       "      <td>...</td>\n",
       "      <td>...</td>\n",
       "      <td>...</td>\n",
       "      <td>...</td>\n",
       "      <td>...</td>\n",
       "      <td>...</td>\n",
       "    </tr>\n",
       "    <tr>\n",
       "      <th>913</th>\n",
       "      <td>Male</td>\n",
       "      <td>TA</td>\n",
       "      <td>0</td>\n",
       "      <td>Normal</td>\n",
       "      <td>No</td>\n",
       "      <td>Flat</td>\n",
       "      <td>ill</td>\n",
       "    </tr>\n",
       "    <tr>\n",
       "      <th>914</th>\n",
       "      <td>Male</td>\n",
       "      <td>ASY</td>\n",
       "      <td>1</td>\n",
       "      <td>Normal</td>\n",
       "      <td>No</td>\n",
       "      <td>Flat</td>\n",
       "      <td>ill</td>\n",
       "    </tr>\n",
       "    <tr>\n",
       "      <th>915</th>\n",
       "      <td>Male</td>\n",
       "      <td>ASY</td>\n",
       "      <td>0</td>\n",
       "      <td>Normal</td>\n",
       "      <td>Yes</td>\n",
       "      <td>Flat</td>\n",
       "      <td>ill</td>\n",
       "    </tr>\n",
       "    <tr>\n",
       "      <th>916</th>\n",
       "      <td>Female</td>\n",
       "      <td>ATA</td>\n",
       "      <td>0</td>\n",
       "      <td>LVH</td>\n",
       "      <td>No</td>\n",
       "      <td>Flat</td>\n",
       "      <td>ill</td>\n",
       "    </tr>\n",
       "    <tr>\n",
       "      <th>917</th>\n",
       "      <td>Male</td>\n",
       "      <td>NAP</td>\n",
       "      <td>0</td>\n",
       "      <td>Normal</td>\n",
       "      <td>No</td>\n",
       "      <td>Up</td>\n",
       "      <td>healthy</td>\n",
       "    </tr>\n",
       "  </tbody>\n",
       "</table>\n",
       "<p>918 rows × 7 columns</p>\n",
       "</div>"
      ],
      "text/plain": [
       "        Sex ChestPainType FastingBS RestingECG ExerciseAngina ST_Slope  \\\n",
       "0      Male           ATA         0     Normal             No       Up   \n",
       "1    Female           NAP         0     Normal             No     Flat   \n",
       "2      Male           ATA         0         ST             No       Up   \n",
       "3    Female           ASY         0     Normal            Yes     Flat   \n",
       "4      Male           NAP         0     Normal             No       Up   \n",
       "..      ...           ...       ...        ...            ...      ...   \n",
       "913    Male            TA         0     Normal             No     Flat   \n",
       "914    Male           ASY         1     Normal             No     Flat   \n",
       "915    Male           ASY         0     Normal            Yes     Flat   \n",
       "916  Female           ATA         0        LVH             No     Flat   \n",
       "917    Male           NAP         0     Normal             No       Up   \n",
       "\n",
       "    HeartDisease  \n",
       "0        healthy  \n",
       "1            ill  \n",
       "2        healthy  \n",
       "3            ill  \n",
       "4        healthy  \n",
       "..           ...  \n",
       "913          ill  \n",
       "914          ill  \n",
       "915          ill  \n",
       "916          ill  \n",
       "917      healthy  \n",
       "\n",
       "[918 rows x 7 columns]"
      ]
     },
     "execution_count": 10,
     "metadata": {},
     "output_type": "execute_result"
    }
   ],
   "source": [
    "df.select_dtypes(include=object)"
   ]
  },
  {
   "cell_type": "code",
   "execution_count": 11,
   "id": "a2542dd5",
   "metadata": {
    "scrolled": true
   },
   "outputs": [
    {
     "data": {
      "image/png": "[encoded data removed]",
      "text/plain": [
       "<Figure size 1080x1080 with 7 Axes>"
      ]
     },
     "metadata": {
      "needs_background": "light"
     },
     "output_type": "display_data"
    }
   ],
   "source": [
    "# Select categorical variables\n",
    "cat_var = df.select_dtypes(include=object).columns\n",
    "\n",
    "fig, ax = plt.subplots(figsize=(15,15))\n",
    "# plt.figure(figsize=(15, 15))\n",
    "\n",
    "# loop through columns\n",
    "for i in enumerate(cat_var):\n",
    "    plt.subplot(4, 2, i[0]+1)\n",
    "    sns.countplot(x = i[1], data = df, order=df[i[1]].value_counts().index, palette='Blues_r')\n",
    "    plt.xlabel('')\n",
    "    plt.ylabel('')\n",
    "    plt.yticks(fontsize=15)\n",
    "    plt.xticks(fontsize=15)\n",
    "    plt.title(i[1], fontsize=18)\n",
    "    plt.tight_layout(pad=3.0)\n",
    "    plt.suptitle('Categorical Variables', fontsize=24)"
   ]
  },
  {
   "cell_type": "markdown",
   "id": "e15a825e",
   "metadata": {},
   "source": [
    "Note: The lable, **HeartDisease**, has a relatively balanced distribution."
   ]
  },
  {
   "cell_type": "code",
   "execution_count": 12,
   "id": "70cc6fa1",
   "metadata": {},
   "outputs": [
    {
     "data": {
      "image/png": "[encoded data removed]",
      "text/plain": [
       "<Figure size 1080x1080 with 5 Axes>"
      ]
     },
     "metadata": {
      "needs_background": "light"
     },
     "output_type": "display_data"
    }
   ],
   "source": [
    "# Select numerical variables\n",
    "num_var = df.select_dtypes(exclude=object).columns\n",
    "\n",
    "fig = plt.subplots(figsize=(15,15))\n",
    "\n",
    "# loop through columns\n",
    "for i in enumerate(num_var):\n",
    "    plt.subplot(3, 2, i[0]+1)\n",
    "    sns.histplot(x = i[1], data = df, color=\"Orange\")\n",
    "    plt.xlabel('')\n",
    "    plt.ylabel('')\n",
    "    plt.yticks(fontsize=15)\n",
    "    plt.xticks(fontsize=15)\n",
    "    plt.title(i[1], fontsize=18)\n",
    "    plt.tight_layout(pad=3.0)\n",
    "    plt.suptitle('Numerical Variables', fontsize=24)"
   ]
  },
  {
   "cell_type": "markdown",
   "id": "97142709",
   "metadata": {},
   "source": [
    "Note: Numerical variables have outliers which will be checked afterwards."
   ]
  },
  {
   "cell_type": "markdown",
   "id": "988f39fc",
   "metadata": {},
   "source": [
    "## Data Preprocessing\n",
    "### Numerical Variables Normalization"
   ]
  },
  {
   "cell_type": "code",
   "execution_count": 13,
   "id": "4d300c2c",
   "metadata": {},
   "outputs": [],
   "source": [
    "from sklearn.preprocessing import MinMaxScaler\n",
    "\n",
    "for i in num_var:\n",
    "    df[i] = MinMaxScaler().fit_transform(df[[i]])"
   ]
  },
  {
   "cell_type": "markdown",
   "id": "24fd64d0",
   "metadata": {},
   "source": [
    "### Outlier Handling"
   ]
  },
  {
   "cell_type": "code",
   "execution_count": 14,
   "id": "7ce1c9c8",
   "metadata": {},
   "outputs": [
    {
     "data": {
      "image/png": "[encoded data removed]",
      "text/plain": [
       "<Figure size 1080x288 with 3 Axes>"
      ]
     },
     "metadata": {
      "needs_background": "light"
     },
     "output_type": "display_data"
    },
    {
     "data": {
      "image/png": "[encoded data removed]",
      "text/plain": [
       "<Figure size 1080x288 with 3 Axes>"
      ]
     },
     "metadata": {
      "needs_background": "light"
     },
     "output_type": "display_data"
    },
    {
     "data": {
      "image/png": "[encoded data removed]",
      "text/plain": [
       "<Figure size 1080x288 with 3 Axes>"
      ]
     },
     "metadata": {
      "needs_background": "light"
     },
     "output_type": "display_data"
    },
    {
     "data": {
      "image/png": "[encoded data removed]",
      "text/plain": [
       "<Figure size 1080x288 with 3 Axes>"
      ]
     },
     "metadata": {
      "needs_background": "light"
     },
     "output_type": "display_data"
    },
    {
     "data": {
      "image/png": "[encoded data removed]",
      "text/plain": [
       "<Figure size 1080x288 with 3 Axes>"
      ]
     },
     "metadata": {
      "needs_background": "light"
     },
     "output_type": "display_data"
    }
   ],
   "source": [
    "import scipy.stats as stats\n",
    "\n",
    "for col in num_var:\n",
    "    fig, axes = plt.subplots(nrows=1, ncols=3, figsize=(15,4))\n",
    "    fig.suptitle(col, fontsize=20)\n",
    "    axes[0].boxplot(df[col])                             # boxplot\n",
    "    axes[1].hist(df[col])                                # histogram\n",
    "    stats.probplot(df[col], dist='norm', plot=axes[2])   # probability plot\n",
    "    axes[0].grid()\n",
    "    axes[1].grid() \n",
    "    axes[2].grid() \n",
    " \n",
    "plt.show()   "
   ]
  },
  {
   "cell_type": "markdown",
   "id": "949e1922",
   "metadata": {},
   "source": [
    "**RestingBP** outliers removing"
   ]
  },
  {
   "cell_type": "code",
   "execution_count": 15,
   "id": "0516dfdc",
   "metadata": {},
   "outputs": [],
   "source": [
    "q1 = df['RestingBP'].quantile(0.25)\n",
    "q3 = df['RestingBP'].quantile(0.75)\n",
    "iqr = q3-q1\n",
    "min_limit = q1 - 1.5 * iqr\n",
    "max_limit = q3 + 1.5 * iqr\n",
    "\n",
    "df = df[(df['RestingBP'] >= min_limit) & (df['RestingBP'] <= max_limit)]\n",
    "# df.reset_index()"
   ]
  },
  {
   "cell_type": "markdown",
   "id": "1e377b00",
   "metadata": {},
   "source": [
    "**Cholesterol** outliers investigation for large amount"
   ]
  },
  {
   "cell_type": "code",
   "execution_count": 16,
   "id": "9d3510cb",
   "metadata": {},
   "outputs": [
    {
     "name": "stdout",
     "output_type": "stream",
     "text": [
      "Number of rows with \"Cholesterol\" = 0 : 164\n"
     ]
    }
   ],
   "source": [
    "# number of rows with 'Cholesterol' = 0\n",
    "print('Number of rows with \"Cholesterol\" = 0 : ' + str(len(df[(df['Cholesterol']==0)])))"
   ]
  },
  {
   "cell_type": "code",
   "execution_count": 19,
   "id": "48052e09",
   "metadata": {},
   "outputs": [
    {
     "name": "stdout",
     "output_type": "stream",
     "text": [
      "Number of rows with \"Cholesterol\" = 0 and HeartDisease : 146\n"
     ]
    }
   ],
   "source": [
    "# number of rows with 'Cholesterol' = 0 and HeartDisease\n",
    "print('Number of rows with \"Cholesterol\" = 0 and HeartDisease : ' + str(len(df[(df['Cholesterol']==0) & (df['HeartDisease']=='ill')])))"
   ]
  },
  {
   "cell_type": "markdown",
   "id": "5ade8007",
   "metadata": {},
   "source": [
    "Comparing two values above, I noticed that most people whose Cholesterol is zero (scaled) has the heart disease, namely ill. Hence, I decide to keep the zeros and only remove the upper outliers."
   ]
  },
  {
   "cell_type": "code",
   "execution_count": 20,
   "id": "6a0eb130",
   "metadata": {},
   "outputs": [],
   "source": [
    "q1 = df['Cholesterol'].quantile(0.25)\n",
    "q3 = df['Cholesterol'].quantile(0.75)\n",
    "iqr = q3-q1\n",
    "#min_limit = q1 - 1.5 * iqr\n",
    "max_limit = q3 + 1.5 * iqr\n",
    "\n",
    "df = df[(df['Cholesterol'] <= max_limit)]\n",
    "# df.reset_index()"
   ]
  },
  {
   "cell_type": "markdown",
   "id": "242b711e",
   "metadata": {},
   "source": [
    "**MaxHR** outliers removing"
   ]
  },
  {
   "cell_type": "code",
   "execution_count": 21,
   "id": "b5111d01",
   "metadata": {},
   "outputs": [],
   "source": [
    "q1 = df['MaxHR'].quantile(0.25)\n",
    "q3 = df['MaxHR'].quantile(0.75)\n",
    "iqr = q3-q1\n",
    "min_limit = q1 - 1.5 * iqr\n",
    "max_limit = q3 + 1.5 * iqr\n",
    "\n",
    "df = df[(df['MaxHR'] >= min_limit) & (df['MaxHR'] <= max_limit)]\n",
    "# df.reset_index()"
   ]
  },
  {
   "cell_type": "markdown",
   "id": "6fa5674a",
   "metadata": {},
   "source": [
    "**Oldpeak** outliers removing"
   ]
  },
  {
   "cell_type": "code",
   "execution_count": 22,
   "id": "037459b6",
   "metadata": {},
   "outputs": [],
   "source": [
    "q1 = df['Oldpeak'].quantile(0.25)\n",
    "q3 = df['Oldpeak'].quantile(0.75)\n",
    "iqr = q3-q1\n",
    "min_limit = q1 - 1.5 * iqr\n",
    "max_limit = q3 + 1.5 * iqr\n",
    "\n",
    "df = df[(df['Oldpeak'] >= min_limit) & (df['Oldpeak'] <= max_limit)]\n",
    "# df.reset_index()"
   ]
  },
  {
   "cell_type": "markdown",
   "id": "2baec7cb",
   "metadata": {},
   "source": [
    "Change **FastingBS** and **HeartDisease** back to numerical variables."
   ]
  },
  {
   "cell_type": "code",
   "execution_count": 23,
   "id": "1de7dcf1",
   "metadata": {},
   "outputs": [],
   "source": [
    "df['FastingBS'] = df['FastingBS'].astype(int)\n",
    "df.loc[df['HeartDisease']=='ill', 'HeartDisease'] = 1\n",
    "df.loc[df['HeartDisease'] == 'healthy', 'HeartDisease'] = 0 \n",
    "df['HeartDisease'] = df['HeartDisease'].astype(int)"
   ]
  },
  {
   "cell_type": "code",
   "execution_count": 24,
   "id": "a82e30c2",
   "metadata": {},
   "outputs": [
    {
     "data": {
      "text/html": [
       "<div>\n",
       "<style scoped>\n",
       "    .dataframe tbody tr th:only-of-type {\n",
       "        vertical-align: middle;\n",
       "    }\n",
       "\n",
       "    .dataframe tbody tr th {\n",
       "        vertical-align: top;\n",
       "    }\n",
       "\n",
       "    .dataframe thead th {\n",
       "        text-align: right;\n",
       "    }\n",
       "</style>\n",
       "<table border=\"1\" class=\"dataframe\">\n",
       "  <thead>\n",
       "    <tr style=\"text-align: right;\">\n",
       "      <th></th>\n",
       "      <th>Age</th>\n",
       "      <th>Sex</th>\n",
       "      <th>ChestPainType</th>\n",
       "      <th>RestingBP</th>\n",
       "      <th>Cholesterol</th>\n",
       "      <th>FastingBS</th>\n",
       "      <th>RestingECG</th>\n",
       "      <th>MaxHR</th>\n",
       "      <th>ExerciseAngina</th>\n",
       "      <th>Oldpeak</th>\n",
       "      <th>ST_Slope</th>\n",
       "      <th>HeartDisease</th>\n",
       "    </tr>\n",
       "  </thead>\n",
       "  <tbody>\n",
       "    <tr>\n",
       "      <th>0</th>\n",
       "      <td>0.244898</td>\n",
       "      <td>Male</td>\n",
       "      <td>ATA</td>\n",
       "      <td>0.70</td>\n",
       "      <td>0.479270</td>\n",
       "      <td>0</td>\n",
       "      <td>Normal</td>\n",
       "      <td>0.788732</td>\n",
       "      <td>No</td>\n",
       "      <td>0.295455</td>\n",
       "      <td>Up</td>\n",
       "      <td>0</td>\n",
       "    </tr>\n",
       "    <tr>\n",
       "      <th>1</th>\n",
       "      <td>0.428571</td>\n",
       "      <td>Female</td>\n",
       "      <td>NAP</td>\n",
       "      <td>0.80</td>\n",
       "      <td>0.298507</td>\n",
       "      <td>0</td>\n",
       "      <td>Normal</td>\n",
       "      <td>0.676056</td>\n",
       "      <td>No</td>\n",
       "      <td>0.409091</td>\n",
       "      <td>Flat</td>\n",
       "      <td>1</td>\n",
       "    </tr>\n",
       "    <tr>\n",
       "      <th>2</th>\n",
       "      <td>0.183673</td>\n",
       "      <td>Male</td>\n",
       "      <td>ATA</td>\n",
       "      <td>0.65</td>\n",
       "      <td>0.469320</td>\n",
       "      <td>0</td>\n",
       "      <td>ST</td>\n",
       "      <td>0.267606</td>\n",
       "      <td>No</td>\n",
       "      <td>0.295455</td>\n",
       "      <td>Up</td>\n",
       "      <td>0</td>\n",
       "    </tr>\n",
       "    <tr>\n",
       "      <th>3</th>\n",
       "      <td>0.408163</td>\n",
       "      <td>Female</td>\n",
       "      <td>ASY</td>\n",
       "      <td>0.69</td>\n",
       "      <td>0.354892</td>\n",
       "      <td>0</td>\n",
       "      <td>Normal</td>\n",
       "      <td>0.338028</td>\n",
       "      <td>Yes</td>\n",
       "      <td>0.465909</td>\n",
       "      <td>Flat</td>\n",
       "      <td>1</td>\n",
       "    </tr>\n",
       "    <tr>\n",
       "      <th>4</th>\n",
       "      <td>0.530612</td>\n",
       "      <td>Male</td>\n",
       "      <td>NAP</td>\n",
       "      <td>0.75</td>\n",
       "      <td>0.323383</td>\n",
       "      <td>0</td>\n",
       "      <td>Normal</td>\n",
       "      <td>0.436620</td>\n",
       "      <td>No</td>\n",
       "      <td>0.295455</td>\n",
       "      <td>Up</td>\n",
       "      <td>0</td>\n",
       "    </tr>\n",
       "    <tr>\n",
       "      <th>...</th>\n",
       "      <td>...</td>\n",
       "      <td>...</td>\n",
       "      <td>...</td>\n",
       "      <td>...</td>\n",
       "      <td>...</td>\n",
       "      <td>...</td>\n",
       "      <td>...</td>\n",
       "      <td>...</td>\n",
       "      <td>...</td>\n",
       "      <td>...</td>\n",
       "      <td>...</td>\n",
       "      <td>...</td>\n",
       "    </tr>\n",
       "    <tr>\n",
       "      <th>857</th>\n",
       "      <td>0.346939</td>\n",
       "      <td>Male</td>\n",
       "      <td>TA</td>\n",
       "      <td>0.55</td>\n",
       "      <td>0.437811</td>\n",
       "      <td>0</td>\n",
       "      <td>Normal</td>\n",
       "      <td>0.507042</td>\n",
       "      <td>No</td>\n",
       "      <td>0.431818</td>\n",
       "      <td>Flat</td>\n",
       "      <td>1</td>\n",
       "    </tr>\n",
       "    <tr>\n",
       "      <th>858</th>\n",
       "      <td>0.816327</td>\n",
       "      <td>Male</td>\n",
       "      <td>ASY</td>\n",
       "      <td>0.72</td>\n",
       "      <td>0.320066</td>\n",
       "      <td>1</td>\n",
       "      <td>Normal</td>\n",
       "      <td>0.570423</td>\n",
       "      <td>No</td>\n",
       "      <td>0.681818</td>\n",
       "      <td>Flat</td>\n",
       "      <td>1</td>\n",
       "    </tr>\n",
       "    <tr>\n",
       "      <th>859</th>\n",
       "      <td>0.591837</td>\n",
       "      <td>Male</td>\n",
       "      <td>ASY</td>\n",
       "      <td>0.65</td>\n",
       "      <td>0.217247</td>\n",
       "      <td>0</td>\n",
       "      <td>Normal</td>\n",
       "      <td>0.387324</td>\n",
       "      <td>Yes</td>\n",
       "      <td>0.431818</td>\n",
       "      <td>Flat</td>\n",
       "      <td>1</td>\n",
       "    </tr>\n",
       "    <tr>\n",
       "      <th>860</th>\n",
       "      <td>0.591837</td>\n",
       "      <td>Female</td>\n",
       "      <td>ATA</td>\n",
       "      <td>0.65</td>\n",
       "      <td>0.391376</td>\n",
       "      <td>0</td>\n",
       "      <td>LVH</td>\n",
       "      <td>0.802817</td>\n",
       "      <td>No</td>\n",
       "      <td>0.295455</td>\n",
       "      <td>Flat</td>\n",
       "      <td>1</td>\n",
       "    </tr>\n",
       "    <tr>\n",
       "      <th>861</th>\n",
       "      <td>0.204082</td>\n",
       "      <td>Male</td>\n",
       "      <td>NAP</td>\n",
       "      <td>0.69</td>\n",
       "      <td>0.290216</td>\n",
       "      <td>0</td>\n",
       "      <td>Normal</td>\n",
       "      <td>0.795775</td>\n",
       "      <td>No</td>\n",
       "      <td>0.295455</td>\n",
       "      <td>Up</td>\n",
       "      <td>0</td>\n",
       "    </tr>\n",
       "  </tbody>\n",
       "</table>\n",
       "<p>862 rows × 12 columns</p>\n",
       "</div>"
      ],
      "text/plain": [
       "          Age     Sex ChestPainType  RestingBP  Cholesterol  FastingBS  \\\n",
       "0    0.244898    Male           ATA       0.70     0.479270          0   \n",
       "1    0.428571  Female           NAP       0.80     0.298507          0   \n",
       "2    0.183673    Male           ATA       0.65     0.469320          0   \n",
       "3    0.408163  Female           ASY       0.69     0.354892          0   \n",
       "4    0.530612    Male           NAP       0.75     0.323383          0   \n",
       "..        ...     ...           ...        ...          ...        ...   \n",
       "857  0.346939    Male            TA       0.55     0.437811          0   \n",
       "858  0.816327    Male           ASY       0.72     0.320066          1   \n",
       "859  0.591837    Male           ASY       0.65     0.217247          0   \n",
       "860  0.591837  Female           ATA       0.65     0.391376          0   \n",
       "861  0.204082    Male           NAP       0.69     0.290216          0   \n",
       "\n",
       "    RestingECG     MaxHR ExerciseAngina   Oldpeak ST_Slope  HeartDisease  \n",
       "0       Normal  0.788732             No  0.295455       Up             0  \n",
       "1       Normal  0.676056             No  0.409091     Flat             1  \n",
       "2           ST  0.267606             No  0.295455       Up             0  \n",
       "3       Normal  0.338028            Yes  0.465909     Flat             1  \n",
       "4       Normal  0.436620             No  0.295455       Up             0  \n",
       "..         ...       ...            ...       ...      ...           ...  \n",
       "857     Normal  0.507042             No  0.431818     Flat             1  \n",
       "858     Normal  0.570423             No  0.681818     Flat             1  \n",
       "859     Normal  0.387324            Yes  0.431818     Flat             1  \n",
       "860        LVH  0.802817             No  0.295455     Flat             1  \n",
       "861     Normal  0.795775             No  0.295455       Up             0  \n",
       "\n",
       "[862 rows x 12 columns]"
      ]
     },
     "execution_count": 24,
     "metadata": {},
     "output_type": "execute_result"
    }
   ],
   "source": [
    "df = df.reset_index(drop=True)\n",
    "df"
   ]
  },
  {
   "cell_type": "markdown",
   "id": "e25ae002",
   "metadata": {},
   "source": [
    "# Supervised Learning\n",
    "The task is to predict a possible **heart disease** (label), which is a **classification** problem, by using 11 features.\n",
    "\n",
    "In supervised learning, I will implement three methods:\n",
    "1. Logistic Regression\n",
    "2. Random Forest\n",
    "3. AdaBoost"
   ]
  },
  {
   "cell_type": "code",
   "execution_count": 25,
   "id": "dd717ad2",
   "metadata": {},
   "outputs": [],
   "source": [
    "df1 = df.copy()"
   ]
  },
  {
   "cell_type": "markdown",
   "id": "eee473d6",
   "metadata": {},
   "source": [
    "### Encoding Categorical Variables"
   ]
  },
  {
   "cell_type": "code",
   "execution_count": 26,
   "id": "18128911",
   "metadata": {},
   "outputs": [],
   "source": [
    "cat_var = df1.select_dtypes(include=object).columns\n",
    "\n",
    "# # one-hot encoding\n",
    "# df1 = pd.get_dummies(df1, columns=cat_var)  \n",
    "# df1.head()\n",
    "\n",
    "# ordinal encoding\n",
    "from sklearn.preprocessing import OrdinalEncoder\n",
    "enc = OrdinalEncoder()\n",
    "df1[cat_var] = enc.fit_transform(df1[cat_var])"
   ]
  },
  {
   "cell_type": "markdown",
   "id": "ace825d8",
   "metadata": {},
   "source": [
    "### Normalization of encoded categorical variables"
   ]
  },
  {
   "cell_type": "code",
   "execution_count": 27,
   "id": "cbfff913",
   "metadata": {},
   "outputs": [
    {
     "data": {
      "text/html": [
       "<div>\n",
       "<style scoped>\n",
       "    .dataframe tbody tr th:only-of-type {\n",
       "        vertical-align: middle;\n",
       "    }\n",
       "\n",
       "    .dataframe tbody tr th {\n",
       "        vertical-align: top;\n",
       "    }\n",
       "\n",
       "    .dataframe thead th {\n",
       "        text-align: right;\n",
       "    }\n",
       "</style>\n",
       "<table border=\"1\" class=\"dataframe\">\n",
       "  <thead>\n",
       "    <tr style=\"text-align: right;\">\n",
       "      <th></th>\n",
       "      <th>Age</th>\n",
       "      <th>Sex</th>\n",
       "      <th>ChestPainType</th>\n",
       "      <th>RestingBP</th>\n",
       "      <th>Cholesterol</th>\n",
       "      <th>FastingBS</th>\n",
       "      <th>RestingECG</th>\n",
       "      <th>MaxHR</th>\n",
       "      <th>ExerciseAngina</th>\n",
       "      <th>Oldpeak</th>\n",
       "      <th>ST_Slope</th>\n",
       "      <th>HeartDisease</th>\n",
       "    </tr>\n",
       "  </thead>\n",
       "  <tbody>\n",
       "    <tr>\n",
       "      <th>0</th>\n",
       "      <td>0.244898</td>\n",
       "      <td>1.0</td>\n",
       "      <td>0.333333</td>\n",
       "      <td>0.70</td>\n",
       "      <td>0.479270</td>\n",
       "      <td>0</td>\n",
       "      <td>0.5</td>\n",
       "      <td>0.788732</td>\n",
       "      <td>0.0</td>\n",
       "      <td>0.295455</td>\n",
       "      <td>1.0</td>\n",
       "      <td>0</td>\n",
       "    </tr>\n",
       "    <tr>\n",
       "      <th>1</th>\n",
       "      <td>0.428571</td>\n",
       "      <td>0.0</td>\n",
       "      <td>0.666667</td>\n",
       "      <td>0.80</td>\n",
       "      <td>0.298507</td>\n",
       "      <td>0</td>\n",
       "      <td>0.5</td>\n",
       "      <td>0.676056</td>\n",
       "      <td>0.0</td>\n",
       "      <td>0.409091</td>\n",
       "      <td>0.5</td>\n",
       "      <td>1</td>\n",
       "    </tr>\n",
       "    <tr>\n",
       "      <th>2</th>\n",
       "      <td>0.183673</td>\n",
       "      <td>1.0</td>\n",
       "      <td>0.333333</td>\n",
       "      <td>0.65</td>\n",
       "      <td>0.469320</td>\n",
       "      <td>0</td>\n",
       "      <td>1.0</td>\n",
       "      <td>0.267606</td>\n",
       "      <td>0.0</td>\n",
       "      <td>0.295455</td>\n",
       "      <td>1.0</td>\n",
       "      <td>0</td>\n",
       "    </tr>\n",
       "    <tr>\n",
       "      <th>3</th>\n",
       "      <td>0.408163</td>\n",
       "      <td>0.0</td>\n",
       "      <td>0.000000</td>\n",
       "      <td>0.69</td>\n",
       "      <td>0.354892</td>\n",
       "      <td>0</td>\n",
       "      <td>0.5</td>\n",
       "      <td>0.338028</td>\n",
       "      <td>1.0</td>\n",
       "      <td>0.465909</td>\n",
       "      <td>0.5</td>\n",
       "      <td>1</td>\n",
       "    </tr>\n",
       "    <tr>\n",
       "      <th>4</th>\n",
       "      <td>0.530612</td>\n",
       "      <td>1.0</td>\n",
       "      <td>0.666667</td>\n",
       "      <td>0.75</td>\n",
       "      <td>0.323383</td>\n",
       "      <td>0</td>\n",
       "      <td>0.5</td>\n",
       "      <td>0.436620</td>\n",
       "      <td>0.0</td>\n",
       "      <td>0.295455</td>\n",
       "      <td>1.0</td>\n",
       "      <td>0</td>\n",
       "    </tr>\n",
       "    <tr>\n",
       "      <th>...</th>\n",
       "      <td>...</td>\n",
       "      <td>...</td>\n",
       "      <td>...</td>\n",
       "      <td>...</td>\n",
       "      <td>...</td>\n",
       "      <td>...</td>\n",
       "      <td>...</td>\n",
       "      <td>...</td>\n",
       "      <td>...</td>\n",
       "      <td>...</td>\n",
       "      <td>...</td>\n",
       "      <td>...</td>\n",
       "    </tr>\n",
       "    <tr>\n",
       "      <th>857</th>\n",
       "      <td>0.346939</td>\n",
       "      <td>1.0</td>\n",
       "      <td>1.000000</td>\n",
       "      <td>0.55</td>\n",
       "      <td>0.437811</td>\n",
       "      <td>0</td>\n",
       "      <td>0.5</td>\n",
       "      <td>0.507042</td>\n",
       "      <td>0.0</td>\n",
       "      <td>0.431818</td>\n",
       "      <td>0.5</td>\n",
       "      <td>1</td>\n",
       "    </tr>\n",
       "    <tr>\n",
       "      <th>858</th>\n",
       "      <td>0.816327</td>\n",
       "      <td>1.0</td>\n",
       "      <td>0.000000</td>\n",
       "      <td>0.72</td>\n",
       "      <td>0.320066</td>\n",
       "      <td>1</td>\n",
       "      <td>0.5</td>\n",
       "      <td>0.570423</td>\n",
       "      <td>0.0</td>\n",
       "      <td>0.681818</td>\n",
       "      <td>0.5</td>\n",
       "      <td>1</td>\n",
       "    </tr>\n",
       "    <tr>\n",
       "      <th>859</th>\n",
       "      <td>0.591837</td>\n",
       "      <td>1.0</td>\n",
       "      <td>0.000000</td>\n",
       "      <td>0.65</td>\n",
       "      <td>0.217247</td>\n",
       "      <td>0</td>\n",
       "      <td>0.5</td>\n",
       "      <td>0.387324</td>\n",
       "      <td>1.0</td>\n",
       "      <td>0.431818</td>\n",
       "      <td>0.5</td>\n",
       "      <td>1</td>\n",
       "    </tr>\n",
       "    <tr>\n",
       "      <th>860</th>\n",
       "      <td>0.591837</td>\n",
       "      <td>0.0</td>\n",
       "      <td>0.333333</td>\n",
       "      <td>0.65</td>\n",
       "      <td>0.391376</td>\n",
       "      <td>0</td>\n",
       "      <td>0.0</td>\n",
       "      <td>0.802817</td>\n",
       "      <td>0.0</td>\n",
       "      <td>0.295455</td>\n",
       "      <td>0.5</td>\n",
       "      <td>1</td>\n",
       "    </tr>\n",
       "    <tr>\n",
       "      <th>861</th>\n",
       "      <td>0.204082</td>\n",
       "      <td>1.0</td>\n",
       "      <td>0.666667</td>\n",
       "      <td>0.69</td>\n",
       "      <td>0.290216</td>\n",
       "      <td>0</td>\n",
       "      <td>0.5</td>\n",
       "      <td>0.795775</td>\n",
       "      <td>0.0</td>\n",
       "      <td>0.295455</td>\n",
       "      <td>1.0</td>\n",
       "      <td>0</td>\n",
       "    </tr>\n",
       "  </tbody>\n",
       "</table>\n",
       "<p>862 rows × 12 columns</p>\n",
       "</div>"
      ],
      "text/plain": [
       "          Age  Sex  ChestPainType  RestingBP  Cholesterol  FastingBS  \\\n",
       "0    0.244898  1.0       0.333333       0.70     0.479270          0   \n",
       "1    0.428571  0.0       0.666667       0.80     0.298507          0   \n",
       "2    0.183673  1.0       0.333333       0.65     0.469320          0   \n",
       "3    0.408163  0.0       0.000000       0.69     0.354892          0   \n",
       "4    0.530612  1.0       0.666667       0.75     0.323383          0   \n",
       "..        ...  ...            ...        ...          ...        ...   \n",
       "857  0.346939  1.0       1.000000       0.55     0.437811          0   \n",
       "858  0.816327  1.0       0.000000       0.72     0.320066          1   \n",
       "859  0.591837  1.0       0.000000       0.65     0.217247          0   \n",
       "860  0.591837  0.0       0.333333       0.65     0.391376          0   \n",
       "861  0.204082  1.0       0.666667       0.69     0.290216          0   \n",
       "\n",
       "     RestingECG     MaxHR  ExerciseAngina   Oldpeak  ST_Slope  HeartDisease  \n",
       "0           0.5  0.788732             0.0  0.295455       1.0             0  \n",
       "1           0.5  0.676056             0.0  0.409091       0.5             1  \n",
       "2           1.0  0.267606             0.0  0.295455       1.0             0  \n",
       "3           0.5  0.338028             1.0  0.465909       0.5             1  \n",
       "4           0.5  0.436620             0.0  0.295455       1.0             0  \n",
       "..          ...       ...             ...       ...       ...           ...  \n",
       "857         0.5  0.507042             0.0  0.431818       0.5             1  \n",
       "858         0.5  0.570423             0.0  0.681818       0.5             1  \n",
       "859         0.5  0.387324             1.0  0.431818       0.5             1  \n",
       "860         0.0  0.802817             0.0  0.295455       0.5             1  \n",
       "861         0.5  0.795775             0.0  0.295455       1.0             0  \n",
       "\n",
       "[862 rows x 12 columns]"
      ]
     },
     "execution_count": 27,
     "metadata": {},
     "output_type": "execute_result"
    }
   ],
   "source": [
    "for i in cat_var:\n",
    "    df1[i] = MinMaxScaler().fit_transform(df1[[i]])\n",
    "    \n",
    "df1"
   ]
  },
  {
   "cell_type": "markdown",
   "id": "1783dc6b",
   "metadata": {},
   "source": [
    "### Correlation Matrix"
   ]
  },
  {
   "cell_type": "code",
   "execution_count": 28,
   "id": "73b925e2",
   "metadata": {},
   "outputs": [
    {
     "data": {
      "image/png": "[encoded data removed]",
      "text/plain": [
       "<Figure size 1080x864 with 2 Axes>"
      ]
     },
     "metadata": {
      "needs_background": "light"
     },
     "output_type": "display_data"
    }
   ],
   "source": [
    "plt.figure(figsize=(15, 12))\n",
    "heatmap = sns.heatmap(df1.corr(), vmin=-1, vmax=1, annot=True, cmap=\"Blues\")"
   ]
  },
  {
   "cell_type": "markdown",
   "id": "68ff67fb",
   "metadata": {},
   "source": [
    "*0.0 &nbsp; ≤ &nbsp; r &nbsp; < &nbsp; 0.3  &nbsp;       None or very weak*  \n",
    "*0.3 &nbsp; ≤ &nbsp; r &nbsp; < &nbsp; 0.5  &nbsp;       Weak*  \n",
    "*0.5 &nbsp; ≤ &nbsp; r &nbsp; < &nbsp; 0.7  &nbsp;       Moderate*  \n",
    "*0.7 &nbsp; ≤ &nbsp; r &nbsp; ≤ &nbsp; 1.0    &nbsp;     Strong*\n",
    "\n",
    "We can see that most correlations among continuous features are weak or very weak. Only one correlation between ST_slope and HeartDisease is moderate, but it is not large enough to replace any one by the other."
   ]
  },
  {
   "cell_type": "markdown",
   "id": "7772a059",
   "metadata": {},
   "source": [
    "### Spliting Data into Train and Test sets"
   ]
  },
  {
   "cell_type": "code",
   "execution_count": 29,
   "id": "97b28f8f",
   "metadata": {},
   "outputs": [],
   "source": [
    "from sklearn.model_selection import train_test_split\n",
    "\n",
    "X = df1.drop('HeartDisease',axis=1)\n",
    "y = df1['HeartDisease']\n",
    "X_train, X_test, y_train, y_test = train_test_split(X,y, test_size=0.2, stratify=y, random_state=123)"
   ]
  },
  {
   "cell_type": "markdown",
   "id": "e327bcf6",
   "metadata": {},
   "source": [
    "### Cross Validation is set to 5 fold for all three methods."
   ]
  },
  {
   "cell_type": "markdown",
   "id": "27dec3d3",
   "metadata": {},
   "source": [
    "## 1. Logistic Regression"
   ]
  },
  {
   "cell_type": "code",
   "execution_count": 24,
   "id": "955b7b78",
   "metadata": {},
   "outputs": [],
   "source": [
    "from sklearn.linear_model import LogisticRegressionCV\n",
    "from sklearn.metrics import accuracy_score, f1_score"
   ]
  },
  {
   "cell_type": "markdown",
   "id": "17f165d1",
   "metadata": {},
   "source": [
    "L1 regularized logistic regression (Lasso regression)"
   ]
  },
  {
   "cell_type": "code",
   "execution_count": 25,
   "id": "63d7f023",
   "metadata": {},
   "outputs": [
    {
     "name": "stdout",
     "output_type": "stream",
     "text": [
      "Accuracy score:  0.861271676300578\n",
      "F1 Score:  0.870967741935484\n"
     ]
    }
   ],
   "source": [
    "# L1 regularized logistic regression\n",
    "lr_l1 = LogisticRegressionCV(cv=5, penalty='l1', solver='liblinear', random_state=123).fit(X_train, y_train)\n",
    "y_pred = lr_l1.predict(X_test)\n",
    "print('Accuracy score: ', accuracy_score(y_test, y_pred))\n",
    "print('F1 Score: ', f1_score(y_test, y_pred))"
   ]
  },
  {
   "cell_type": "markdown",
   "id": "2b601330",
   "metadata": {},
   "source": [
    "L2 regularized logistic regression (Ridge regression)"
   ]
  },
  {
   "cell_type": "code",
   "execution_count": 26,
   "id": "b15c6b5e",
   "metadata": {
    "scrolled": false
   },
   "outputs": [
    {
     "name": "stdout",
     "output_type": "stream",
     "text": [
      "Accuracy score:  0.8497109826589595\n",
      "F1 Score:  0.858695652173913\n"
     ]
    }
   ],
   "source": [
    "# L2 regularized logistic regression\n",
    "lr_l2 = LogisticRegressionCV(cv=5, penalty='l2', solver='liblinear', random_state=123).fit(X_train, y_train)\n",
    "y_pred = lr_l2.predict(X_test)\n",
    "print('Accuracy score: ', accuracy_score(y_test, y_pred))\n",
    "print('F1 Score: ', f1_score(y_test, y_pred))"
   ]
  },
  {
   "cell_type": "markdown",
   "id": "fba3fabb",
   "metadata": {},
   "source": [
    "## 2. Random Forest"
   ]
  },
  {
   "cell_type": "code",
   "execution_count": 27,
   "id": "f327211f",
   "metadata": {},
   "outputs": [
    {
     "name": "stdout",
     "output_type": "stream",
     "text": [
      "best score:  0.8932399245239534\n",
      "best param:  {'bootstrap': True, 'max_depth': 15, 'max_features': 'auto', 'min_samples_leaf': 1, 'min_samples_split': 15, 'n_estimators': 150}\n"
     ]
    }
   ],
   "source": [
    "from sklearn.ensemble import RandomForestClassifier\n",
    "from sklearn.model_selection import GridSearchCV\n",
    "\n",
    "params = {'n_estimators':[100, 150, 200], \n",
    "          'max_features': ['auto', 'sqrt'],\n",
    "          'max_depth': [15, 20, 25, None], \n",
    "          'min_samples_split': [5, 10, 15],\n",
    "          'min_samples_leaf': [1, 2], \n",
    "          'bootstrap': [True, False]}\n",
    "\n",
    "rfc = RandomForestClassifier(random_state=123)\n",
    "\n",
    "grid_search = GridSearchCV(estimator = rfc, \n",
    "                           param_grid = params,\n",
    "                           scoring = 'f1',\n",
    "                           cv = 5,\n",
    "                           verbose=False, \n",
    "                           n_jobs=-1)\n",
    "\n",
    "grid_search.fit(X_train, y_train)\n",
    "print(\"best score: \", grid_search.best_score_)\n",
    "print(\"best param: \", grid_search.best_params_)"
   ]
  },
  {
   "cell_type": "code",
   "execution_count": 28,
   "id": "ede9d991",
   "metadata": {
    "scrolled": true
   },
   "outputs": [
    {
     "name": "stdout",
     "output_type": "stream",
     "text": [
      "Accuracy score:  0.861271676300578\n",
      "F1 Score:  0.8723404255319149\n"
     ]
    }
   ],
   "source": [
    "best_params = grid_search.best_params_\n",
    "rfc = RandomForestClassifier(random_state=123, **best_params)\n",
    "                            \n",
    "rfc = rfc.fit(X_train, y_train)\n",
    "y_pred = rfc.predict(X_test)\n",
    "\n",
    "print('Accuracy score: ', accuracy_score(y_test, y_pred))\n",
    "print('F1 Score: ', f1_score(y_test, y_pred))"
   ]
  },
  {
   "cell_type": "markdown",
   "id": "aebfdc32",
   "metadata": {},
   "source": [
    "## 3. AdaBoost"
   ]
  },
  {
   "cell_type": "code",
   "execution_count": 29,
   "id": "9ad392a7",
   "metadata": {},
   "outputs": [
    {
     "name": "stdout",
     "output_type": "stream",
     "text": [
      "best score:  0.835559394070561\n",
      "best param:  {'learning_rate': 0.05, 'n_estimators': 80}\n",
      "\n",
      "Accuracy score:  0.7687861271676301\n",
      "F1 Score:  0.7647058823529411\n"
     ]
    }
   ],
   "source": [
    "from sklearn.ensemble import AdaBoostClassifier\n",
    "from sklearn.tree import DecisionTreeClassifier\n",
    "\n",
    "abc = AdaBoostClassifier(DecisionTreeClassifier(random_state=123))\n",
    "\n",
    "params = {'learning_rate': [0.01, 0.025, 0.05, 0.075, 0.1],\n",
    "          'n_estimators':[80, 100, 120, 140, 160]}\n",
    "\n",
    "grid_search2 = GridSearchCV(estimator=abc,\n",
    "                           param_grid=params, \n",
    "                           scoring='f1',\n",
    "                           cv = 5,\n",
    "                           verbose=False,\n",
    "                           n_jobs=-1)\n",
    "\n",
    "abc = grid_search2.fit(X_train, y_train)\n",
    "y_pred = abc.predict(X_test)\n",
    "print(\"best score: \", abc.best_score_)\n",
    "print(\"best param: \", abc.best_params_)\n",
    "print()\n",
    "print('Accuracy score: ', accuracy_score(y_test, y_pred))\n",
    "print('F1 Score: ', f1_score(y_test, y_pred))"
   ]
  },
  {
   "cell_type": "markdown",
   "id": "7af1b621",
   "metadata": {},
   "source": [
    "### Performance Assessment (supervised learning)"
   ]
  },
  {
   "cell_type": "markdown",
   "id": "5ec18e48",
   "metadata": {},
   "source": [
    "Among three supervised learning algorithm, Random Forest obtained the highest **accuracy = 0.8613** and **F1 score = 0.8723**. Thus, we can conclude Random Forest model outperforms other two models in heart disease prediction."
   ]
  },
  {
   "cell_type": "markdown",
   "id": "bd815700",
   "metadata": {},
   "source": [
    "# Unsupervised Learning"
   ]
  },
  {
   "cell_type": "markdown",
   "id": "097071de",
   "metadata": {},
   "source": [
    "The task is to **cluster** numerical features so that those within the same group exhibit higher similarity than those across groups. The clustering also helps exploring the latent trend.\n",
    "\n",
    "In unsupervised learning, I will implement two methods:\n",
    "\n",
    "1. K-means clustering\n",
    "2. Gaussian Mixture Model"
   ]
  },
  {
   "cell_type": "markdown",
   "id": "1f58a95a",
   "metadata": {},
   "source": [
    "### Drop the label and select numerical features only"
   ]
  },
  {
   "cell_type": "code",
   "execution_count": 30,
   "id": "befef4f2",
   "metadata": {},
   "outputs": [
    {
     "data": {
      "text/html": [
       "<div>\n",
       "<style scoped>\n",
       "    .dataframe tbody tr th:only-of-type {\n",
       "        vertical-align: middle;\n",
       "    }\n",
       "\n",
       "    .dataframe tbody tr th {\n",
       "        vertical-align: top;\n",
       "    }\n",
       "\n",
       "    .dataframe thead th {\n",
       "        text-align: right;\n",
       "    }\n",
       "</style>\n",
       "<table border=\"1\" class=\"dataframe\">\n",
       "  <thead>\n",
       "    <tr style=\"text-align: right;\">\n",
       "      <th></th>\n",
       "      <th>Age</th>\n",
       "      <th>RestingBP</th>\n",
       "      <th>Cholesterol</th>\n",
       "      <th>FastingBS</th>\n",
       "      <th>MaxHR</th>\n",
       "      <th>Oldpeak</th>\n",
       "    </tr>\n",
       "  </thead>\n",
       "  <tbody>\n",
       "    <tr>\n",
       "      <th>0</th>\n",
       "      <td>0.244898</td>\n",
       "      <td>0.70</td>\n",
       "      <td>0.479270</td>\n",
       "      <td>0</td>\n",
       "      <td>0.788732</td>\n",
       "      <td>0.295455</td>\n",
       "    </tr>\n",
       "    <tr>\n",
       "      <th>1</th>\n",
       "      <td>0.428571</td>\n",
       "      <td>0.80</td>\n",
       "      <td>0.298507</td>\n",
       "      <td>0</td>\n",
       "      <td>0.676056</td>\n",
       "      <td>0.409091</td>\n",
       "    </tr>\n",
       "    <tr>\n",
       "      <th>2</th>\n",
       "      <td>0.183673</td>\n",
       "      <td>0.65</td>\n",
       "      <td>0.469320</td>\n",
       "      <td>0</td>\n",
       "      <td>0.267606</td>\n",
       "      <td>0.295455</td>\n",
       "    </tr>\n",
       "    <tr>\n",
       "      <th>3</th>\n",
       "      <td>0.408163</td>\n",
       "      <td>0.69</td>\n",
       "      <td>0.354892</td>\n",
       "      <td>0</td>\n",
       "      <td>0.338028</td>\n",
       "      <td>0.465909</td>\n",
       "    </tr>\n",
       "    <tr>\n",
       "      <th>4</th>\n",
       "      <td>0.530612</td>\n",
       "      <td>0.75</td>\n",
       "      <td>0.323383</td>\n",
       "      <td>0</td>\n",
       "      <td>0.436620</td>\n",
       "      <td>0.295455</td>\n",
       "    </tr>\n",
       "    <tr>\n",
       "      <th>...</th>\n",
       "      <td>...</td>\n",
       "      <td>...</td>\n",
       "      <td>...</td>\n",
       "      <td>...</td>\n",
       "      <td>...</td>\n",
       "      <td>...</td>\n",
       "    </tr>\n",
       "    <tr>\n",
       "      <th>857</th>\n",
       "      <td>0.346939</td>\n",
       "      <td>0.55</td>\n",
       "      <td>0.437811</td>\n",
       "      <td>0</td>\n",
       "      <td>0.507042</td>\n",
       "      <td>0.431818</td>\n",
       "    </tr>\n",
       "    <tr>\n",
       "      <th>858</th>\n",
       "      <td>0.816327</td>\n",
       "      <td>0.72</td>\n",
       "      <td>0.320066</td>\n",
       "      <td>1</td>\n",
       "      <td>0.570423</td>\n",
       "      <td>0.681818</td>\n",
       "    </tr>\n",
       "    <tr>\n",
       "      <th>859</th>\n",
       "      <td>0.591837</td>\n",
       "      <td>0.65</td>\n",
       "      <td>0.217247</td>\n",
       "      <td>0</td>\n",
       "      <td>0.387324</td>\n",
       "      <td>0.431818</td>\n",
       "    </tr>\n",
       "    <tr>\n",
       "      <th>860</th>\n",
       "      <td>0.591837</td>\n",
       "      <td>0.65</td>\n",
       "      <td>0.391376</td>\n",
       "      <td>0</td>\n",
       "      <td>0.802817</td>\n",
       "      <td>0.295455</td>\n",
       "    </tr>\n",
       "    <tr>\n",
       "      <th>861</th>\n",
       "      <td>0.204082</td>\n",
       "      <td>0.69</td>\n",
       "      <td>0.290216</td>\n",
       "      <td>0</td>\n",
       "      <td>0.795775</td>\n",
       "      <td>0.295455</td>\n",
       "    </tr>\n",
       "  </tbody>\n",
       "</table>\n",
       "<p>862 rows × 6 columns</p>\n",
       "</div>"
      ],
      "text/plain": [
       "          Age  RestingBP  Cholesterol  FastingBS     MaxHR   Oldpeak\n",
       "0    0.244898       0.70     0.479270          0  0.788732  0.295455\n",
       "1    0.428571       0.80     0.298507          0  0.676056  0.409091\n",
       "2    0.183673       0.65     0.469320          0  0.267606  0.295455\n",
       "3    0.408163       0.69     0.354892          0  0.338028  0.465909\n",
       "4    0.530612       0.75     0.323383          0  0.436620  0.295455\n",
       "..        ...        ...          ...        ...       ...       ...\n",
       "857  0.346939       0.55     0.437811          0  0.507042  0.431818\n",
       "858  0.816327       0.72     0.320066          1  0.570423  0.681818\n",
       "859  0.591837       0.65     0.217247          0  0.387324  0.431818\n",
       "860  0.591837       0.65     0.391376          0  0.802817  0.295455\n",
       "861  0.204082       0.69     0.290216          0  0.795775  0.295455\n",
       "\n",
       "[862 rows x 6 columns]"
      ]
     },
     "execution_count": 30,
     "metadata": {},
     "output_type": "execute_result"
    }
   ],
   "source": [
    "# drop the label \n",
    "df2 = df.copy()\n",
    "df2 = df2.drop('HeartDisease', axis=1)\n",
    "\n",
    "# # label for clustering methods performance evaluation\n",
    "# df_y = df['HeartDisease']\n",
    "\n",
    "# select numerical features\n",
    "num_var = df2.select_dtypes(exclude=object).columns\n",
    "df2 = df2[num_var]\n",
    "\n",
    "# used later for GMM\n",
    "df3 = df2.copy()\n",
    "\n",
    "# for K-means\n",
    "df2"
   ]
  },
  {
   "cell_type": "markdown",
   "id": "23b7d236",
   "metadata": {},
   "source": [
    "## 1. K-means\n",
    "\n",
    "Tunning the number of clusters via the sum of squared distances of samples to their closest cluster center, namely SSE."
   ]
  },
  {
   "cell_type": "code",
   "execution_count": 31,
   "id": "edd45dc1",
   "metadata": {},
   "outputs": [
    {
     "name": "stderr",
     "output_type": "stream",
     "text": [
      "E:\\Anaconda\\lib\\site-packages\\sklearn\\cluster\\_kmeans.py:881: UserWarning: KMeans is known to have a memory leak on Windows with MKL, when there are less chunks than available threads. You can avoid it by setting the environment variable OMP_NUM_THREADS=4.\n",
      "  warnings.warn(\n"
     ]
    }
   ],
   "source": [
    "from sklearn.cluster import KMeans\n",
    "\n",
    "# set the iteration limit for maximum number of clusters\n",
    "max_cluster = 10\n",
    "\n",
    "# initialize SSE\n",
    "SSE = []\n",
    "\n",
    "for i in range(1,max_cluster+1):\n",
    "    kmeans = KMeans(n_clusters = i, init='k-means++', random_state=123)\n",
    "    kmeans = kmeans.fit(df2)\n",
    "    SSE.append(kmeans.inertia_)"
   ]
  },
  {
   "cell_type": "code",
   "execution_count": 32,
   "id": "64faa961",
   "metadata": {
    "scrolled": true
   },
   "outputs": [
    {
     "data": {
      "image/png": "[encoded data removed]",
      "text/plain": [
       "<Figure size 720x432 with 1 Axes>"
      ]
     },
     "metadata": {
      "needs_background": "light"
     },
     "output_type": "display_data"
    }
   ],
   "source": [
    "fig, ax = plt.subplots(figsize=(10,6))\n",
    "sns.lineplot(x=range(1,max_cluster+1), y=SSE, palette='Blues', marker='o')\n",
    "plt.xlabel('Number of clusters', size=15)\n",
    "plt.ylabel('Sum of Squared Error (SSE)', size=15)\n",
    "plt.xticks(range(1,11))\n",
    "plt.grid(axis='y', linestyle=':')\n",
    "plt.show()"
   ]
  },
  {
   "cell_type": "markdown",
   "id": "ef086b91",
   "metadata": {},
   "source": [
    "Demonstrated as in the graph, the optimal number of clusters we should choose is **2** in that further increasing of this number will not lead to a significant descent in sum of squared error (SSE)."
   ]
  },
  {
   "cell_type": "code",
   "execution_count": 33,
   "id": "bc75d1c2",
   "metadata": {},
   "outputs": [],
   "source": [
    "kmeans = KMeans(n_clusters = 2, init='k-means++', random_state=123)\n",
    "kmeans_result = kmeans.fit_predict(df2)\n",
    "# df_temp = pd.DataFrame({'K-means': kmeans_result})\n",
    "# df2 = df2.join(df_temp)\n",
    "# df2"
   ]
  },
  {
   "cell_type": "code",
   "execution_count": 34,
   "id": "92c2bfc5",
   "metadata": {},
   "outputs": [
    {
     "name": "stdout",
     "output_type": "stream",
     "text": [
      "Silhouette_score:  0.6051160370641218\n",
      "Davies-Bouldin Score:  0.6405850741601111\n"
     ]
    }
   ],
   "source": [
    "from sklearn.metrics.cluster import silhouette_score, davies_bouldin_score\n",
    "\n",
    "print('Silhouette_score: ', silhouette_score(df2, kmeans_result))\n",
    "print('Davies-Bouldin Score: ', davies_bouldin_score(df2, kmeans_result))"
   ]
  },
  {
   "cell_type": "markdown",
   "id": "f25296a2",
   "metadata": {},
   "source": [
    "## 2. Gaussian Mixture Model\n",
    "\n",
    "Tunning the number of clusters via the Bayesian information criterion, namely BIC."
   ]
  },
  {
   "cell_type": "code",
   "execution_count": 36,
   "id": "6bc36ac1",
   "metadata": {},
   "outputs": [
    {
     "name": "stderr",
     "output_type": "stream",
     "text": [
      "E:\\Anaconda\\lib\\site-packages\\sklearn\\cluster\\_kmeans.py:881: UserWarning: KMeans is known to have a memory leak on Windows with MKL, when there are less chunks than available threads. You can avoid it by setting the environment variable OMP_NUM_THREADS=4.\n",
      "  warnings.warn(\n"
     ]
    },
    {
     "data": {
      "image/png": "[encoded data removed]",
      "text/plain": [
       "<Figure size 720x432 with 1 Axes>"
      ]
     },
     "metadata": {
      "needs_background": "light"
     },
     "output_type": "display_data"
    }
   ],
   "source": [
    "from sklearn.mixture import GaussianMixture\n",
    "\n",
    "# set the iteration limit for maximum number of clusters\n",
    "max_cluster = 10\n",
    "\n",
    "# initialize bic\n",
    "BIC = []\n",
    "\n",
    "for i in range(1,max_cluster+1):\n",
    "    gmm = GaussianMixture(n_components = i, random_state=123)\n",
    "    gmm = gmm.fit(df3)\n",
    "    BIC.append(gmm.bic(df3))\n",
    "\n",
    "fig, ax = plt.subplots(figsize=(10,6))\n",
    "sns.lineplot(x=range(1,max_cluster+1), y=BIC, palette='Blues', marker='o')\n",
    "plt.xlabel('Number of clusters', size=15)\n",
    "plt.ylabel('Bayesian information criterion (BIC)', size=15)\n",
    "plt.xticks(range(1,11))\n",
    "plt.grid(axis='y', linestyle=':')\n",
    "plt.show()"
   ]
  },
  {
   "cell_type": "markdown",
   "id": "5af10302",
   "metadata": {},
   "source": [
    "Demonstrated as in the graph, the optimal number of clusters we should choose is 5 since a lower Bayesian information criterion (BIC) is better."
   ]
  },
  {
   "cell_type": "code",
   "execution_count": 37,
   "id": "9c9b8784",
   "metadata": {},
   "outputs": [],
   "source": [
    "gmm = GaussianMixture(n_components = 5, random_state=123)\n",
    "gmm_result = gmm.fit_predict(df3)"
   ]
  },
  {
   "cell_type": "code",
   "execution_count": 43,
   "id": "6a3c3534",
   "metadata": {},
   "outputs": [
    {
     "name": "stdout",
     "output_type": "stream",
     "text": [
      "Silhouette_score:  0.20169809736822528\n",
      "Davies-Bouldin Score:  1.604994245785305\n"
     ]
    }
   ],
   "source": [
    "print('Silhouette_score: ', silhouette_score(df3, gmm_result))\n",
    "print('Davies-Bouldin Score: ', davies_bouldin_score(df3, gmm_result))"
   ]
  },
  {
   "cell_type": "markdown",
   "id": "12cef50e",
   "metadata": {},
   "source": [
    "### Performance Assessment (unsupervised learning)"
   ]
  },
  {
   "cell_type": "markdown",
   "id": "eba2449c",
   "metadata": {},
   "source": [
    "The **Silhouette Score** measures the distance between *each data point*, *the centroid of the cluster it was assigned to* and *the closest centroid belonging to another cluster*. The higher silhouette score means less overlapping of different clusters which is better.\n",
    "\n",
    "The Davies-Bouldin score evaluates intra-cluster similarity and inter-cluster differences, i.e. the ratio between the cluster scatter and the cluster's separation. A lower value indicates that the clustering is better.\n",
    "\n",
    "Compared two clustering methods, K-means clustering has a higher Silhouette score 0.6051 > 0.2017 (GMM) and a lower Davies-Bouldin score 0.6406 < 1.605 (GMM). In closing, the **K-means clustering** outperforms the Gaussian Mixture Model."
   ]
  }
 ],
 "metadata": {
  "kernelspec": {
   "display_name": "Python 3",
   "language": "python",
   "name": "python3"
  },
  "language_info": {
   "codemirror_mode": {
    "name": "ipython",
    "version": 3
   },
   "file_extension": ".py",
   "mimetype": "text/x-python",
   "name": "python",
   "nbconvert_exporter": "python",
   "pygments_lexer": "ipython3",
   "version": "3.8.8"
  }
 },
 "nbformat": 4,
 "nbformat_minor": 5
}
